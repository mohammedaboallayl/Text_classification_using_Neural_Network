{
 "cells": [
  {
   "cell_type": "markdown",
   "id": "c9b2a999",
   "metadata": {},
   "source": [
    "<h1>Importing Libraries</h1>"
   ]
  },
  {
   "cell_type": "code",
   "execution_count": 1,
   "id": "e83fba21",
   "metadata": {},
   "outputs": [],
   "source": [
    "from sklearn.feature_extraction.text import CountVectorizer\n",
    "from sklearn.model_selection import train_test_split\n",
    "from sklearn.metrics import confusion_matrix,classification_report,accuracy_score\n",
    "import pandas as pd \n",
    "import matplotlib.pyplot as plt\n",
    "import numpy as np\n",
    "import seaborn as sns\n",
    "import os\n",
    "import joblib\n",
    "import re"
   ]
  },
  {
   "cell_type": "markdown",
   "id": "2547ee22",
   "metadata": {},
   "source": [
    "<h1> Loading Data</h1>"
   ]
  },
  {
   "cell_type": "code",
   "execution_count": 2,
   "id": "07a1ff51",
   "metadata": {},
   "outputs": [
    {
     "data": {
      "text/html": [
       "<div>\n",
       "<style scoped>\n",
       "    .dataframe tbody tr th:only-of-type {\n",
       "        vertical-align: middle;\n",
       "    }\n",
       "\n",
       "    .dataframe tbody tr th {\n",
       "        vertical-align: top;\n",
       "    }\n",
       "\n",
       "    .dataframe thead th {\n",
       "        text-align: right;\n",
       "    }\n",
       "</style>\n",
       "<table border=\"1\" class=\"dataframe\">\n",
       "  <thead>\n",
       "    <tr style=\"text-align: right;\">\n",
       "      <th></th>\n",
       "      <th>Type</th>\n",
       "      <th>Message</th>\n",
       "    </tr>\n",
       "  </thead>\n",
       "  <tbody>\n",
       "    <tr>\n",
       "      <th>0</th>\n",
       "      <td>ham</td>\n",
       "      <td>Go until jurong point, crazy.. Available only ...</td>\n",
       "    </tr>\n",
       "    <tr>\n",
       "      <th>1</th>\n",
       "      <td>ham</td>\n",
       "      <td>Ok lar... Joking wif u oni...</td>\n",
       "    </tr>\n",
       "    <tr>\n",
       "      <th>2</th>\n",
       "      <td>spam</td>\n",
       "      <td>Free entry in 2 a wkly comp to win FA Cup fina...</td>\n",
       "    </tr>\n",
       "    <tr>\n",
       "      <th>3</th>\n",
       "      <td>ham</td>\n",
       "      <td>U dun say so early hor... U c already then say...</td>\n",
       "    </tr>\n",
       "    <tr>\n",
       "      <th>4</th>\n",
       "      <td>ham</td>\n",
       "      <td>Nah I don't think he goes to usf, he lives aro...</td>\n",
       "    </tr>\n",
       "  </tbody>\n",
       "</table>\n",
       "</div>"
      ],
      "text/plain": [
       "   Type                                            Message\n",
       "0   ham  Go until jurong point, crazy.. Available only ...\n",
       "1   ham                      Ok lar... Joking wif u oni...\n",
       "2  spam  Free entry in 2 a wkly comp to win FA Cup fina...\n",
       "3   ham  U dun say so early hor... U c already then say...\n",
       "4   ham  Nah I don't think he goes to usf, he lives aro..."
      ]
     },
     "execution_count": 2,
     "metadata": {},
     "output_type": "execute_result"
    }
   ],
   "source": [
    "#loading data\n",
    "dir = os.path.join(os.getcwd(), \"Emails.tsv\") #preparing path for DataSet\n",
    "EmailsData=pd.read_table(dir,header=None, names=['Type', 'Message'])\n",
    "EmailsData.head()"
   ]
  },
  {
   "cell_type": "markdown",
   "id": "d8de4545",
   "metadata": {},
   "source": [
    "<h2> Data Understanding and Preprocessing</h2>"
   ]
  },
  {
   "cell_type": "code",
   "execution_count": 3,
   "id": "1e1b73cd",
   "metadata": {},
   "outputs": [
    {
     "name": "stdout",
     "output_type": "stream",
     "text": [
      "<class 'pandas.core.frame.DataFrame'>\n",
      "RangeIndex: 5572 entries, 0 to 5571\n",
      "Data columns (total 2 columns):\n",
      " #   Column   Non-Null Count  Dtype \n",
      "---  ------   --------------  ----- \n",
      " 0   Type     5572 non-null   object\n",
      " 1   Message  5572 non-null   object\n",
      "dtypes: object(2)\n",
      "memory usage: 87.2+ KB\n"
     ]
    }
   ],
   "source": [
    "#display information to ensure that data is complete and dont have any None values\n",
    "EmailsData.info()"
   ]
  },
  {
   "cell_type": "code",
   "execution_count": 4,
   "id": "3b32da11",
   "metadata": {},
   "outputs": [
    {
     "data": {
      "text/plain": [
       "<AxesSubplot:xlabel='Type', ylabel='count'>"
      ]
     },
     "execution_count": 4,
     "metadata": {},
     "output_type": "execute_result"
    },
    {
     "data": {
      "image/png": "[encoded data removed]",
      "text/plain": [
       "<Figure size 1440x288 with 1 Axes>"
      ]
     },
     "metadata": {
      "needs_background": "light"
     },
     "output_type": "display_data"
    }
   ],
   "source": [
    "#viewing count of items in classes\n",
    "plt.figure(figsize=(20,4))\n",
    "sns.countplot(x=\"Type\",data=EmailsData)"
   ]
  },
  {
   "cell_type": "code",
   "execution_count": 5,
   "id": "e268aeba",
   "metadata": {},
   "outputs": [],
   "source": [
    "# functions for preparing data\n",
    "def Type(item):#maping type column to 1 for hame and 0 for spa,\n",
    "    if item==\"ham\":\n",
    "        return 1\n",
    "    else:\n",
    "        return 0\n",
    "def Message(item):#deleting any number as it is not relative\n",
    "    return re.sub(r\"[\\d]\",\"\",item)"
   ]
  },
  {
   "cell_type": "code",
   "execution_count": 6,
   "id": "388d4840",
   "metadata": {},
   "outputs": [
    {
     "data": {
      "text/html": [
       "<div>\n",
       "<style scoped>\n",
       "    .dataframe tbody tr th:only-of-type {\n",
       "        vertical-align: middle;\n",
       "    }\n",
       "\n",
       "    .dataframe tbody tr th {\n",
       "        vertical-align: top;\n",
       "    }\n",
       "\n",
       "    .dataframe thead th {\n",
       "        text-align: right;\n",
       "    }\n",
       "</style>\n",
       "<table border=\"1\" class=\"dataframe\">\n",
       "  <thead>\n",
       "    <tr style=\"text-align: right;\">\n",
       "      <th></th>\n",
       "      <th>Type</th>\n",
       "      <th>Message</th>\n",
       "    </tr>\n",
       "  </thead>\n",
       "  <tbody>\n",
       "    <tr>\n",
       "      <th>0</th>\n",
       "      <td>1</td>\n",
       "      <td>Go until jurong point, crazy.. Available only ...</td>\n",
       "    </tr>\n",
       "    <tr>\n",
       "      <th>1</th>\n",
       "      <td>1</td>\n",
       "      <td>Ok lar... Joking wif u oni...</td>\n",
       "    </tr>\n",
       "    <tr>\n",
       "      <th>2</th>\n",
       "      <td>0</td>\n",
       "      <td>Free entry in  a wkly comp to win FA Cup final...</td>\n",
       "    </tr>\n",
       "    <tr>\n",
       "      <th>3</th>\n",
       "      <td>1</td>\n",
       "      <td>U dun say so early hor... U c already then say...</td>\n",
       "    </tr>\n",
       "    <tr>\n",
       "      <th>4</th>\n",
       "      <td>1</td>\n",
       "      <td>Nah I don't think he goes to usf, he lives aro...</td>\n",
       "    </tr>\n",
       "    <tr>\n",
       "      <th>...</th>\n",
       "      <td>...</td>\n",
       "      <td>...</td>\n",
       "    </tr>\n",
       "    <tr>\n",
       "      <th>5567</th>\n",
       "      <td>0</td>\n",
       "      <td>This is the nd time we have tried  contact u. ...</td>\n",
       "    </tr>\n",
       "    <tr>\n",
       "      <th>5568</th>\n",
       "      <td>1</td>\n",
       "      <td>Will ü b going to esplanade fr home?</td>\n",
       "    </tr>\n",
       "    <tr>\n",
       "      <th>5569</th>\n",
       "      <td>1</td>\n",
       "      <td>Pity, * was in mood for that. So...any other s...</td>\n",
       "    </tr>\n",
       "    <tr>\n",
       "      <th>5570</th>\n",
       "      <td>1</td>\n",
       "      <td>The guy did some bitching but I acted like i'd...</td>\n",
       "    </tr>\n",
       "    <tr>\n",
       "      <th>5571</th>\n",
       "      <td>1</td>\n",
       "      <td>Rofl. Its true to its name</td>\n",
       "    </tr>\n",
       "  </tbody>\n",
       "</table>\n",
       "<p>5572 rows × 2 columns</p>\n",
       "</div>"
      ],
      "text/plain": [
       "      Type                                            Message\n",
       "0        1  Go until jurong point, crazy.. Available only ...\n",
       "1        1                      Ok lar... Joking wif u oni...\n",
       "2        0  Free entry in  a wkly comp to win FA Cup final...\n",
       "3        1  U dun say so early hor... U c already then say...\n",
       "4        1  Nah I don't think he goes to usf, he lives aro...\n",
       "...    ...                                                ...\n",
       "5567     0  This is the nd time we have tried  contact u. ...\n",
       "5568     1               Will ü b going to esplanade fr home?\n",
       "5569     1  Pity, * was in mood for that. So...any other s...\n",
       "5570     1  The guy did some bitching but I acted like i'd...\n",
       "5571     1                         Rofl. Its true to its name\n",
       "\n",
       "[5572 rows x 2 columns]"
      ]
     },
     "execution_count": 6,
     "metadata": {},
     "output_type": "execute_result"
    }
   ],
   "source": [
    "# Applying functions for preparing data\n",
    "EmailsData[\"Type\"]=EmailsData[\"Type\"].apply(Type)\n",
    "EmailsData[\"Message\"]=EmailsData[\"Message\"].apply(Message)\n",
    "EmailsData"
   ]
  },
  {
   "cell_type": "code",
   "execution_count": 7,
   "id": "429fc0c2",
   "metadata": {},
   "outputs": [
    {
     "name": "stdout",
     "output_type": "stream",
     "text": [
      "(3900,)\n",
      "(1672,)\n",
      "(3900,)\n",
      "(1672,)\n"
     ]
    }
   ],
   "source": [
    "#Splitting data\n",
    "X_train, X_test, y_train, y_test = train_test_split(np.array(EmailsData[\"Message\"]), np.array(EmailsData[\"Type\"]), test_size=0.3,random_state=1)\n",
    "print(X_train.shape)\n",
    "print(X_test.shape)\n",
    "print(y_train.shape)\n",
    "print(y_test.shape)"
   ]
  },
  {
   "cell_type": "code",
   "execution_count": 8,
   "id": "d2fb7944",
   "metadata": {},
   "outputs": [],
   "source": [
    "# Making maping from phrase to vactor of numbers for training\n",
    "Vcreator= CountVectorizer()\n",
    "Vcreator.fit(X_train)\n",
    "X_train_vector = Vcreator.transform(X_train).toarray()\n",
    "X_test_vector=Vcreator.transform(X_test).toarray()\n",
    "y_test=np.array(y_test).reshape((y_test.shape[0],1))\n",
    "y_train=np.array(y_train).reshape((y_train.shape[0],1))"
   ]
  },
  {
   "cell_type": "code",
   "execution_count": 9,
   "id": "3173ffcf",
   "metadata": {},
   "outputs": [
    {
     "data": {
      "text/plain": [
       "(3900, 6429)"
      ]
     },
     "execution_count": 9,
     "metadata": {},
     "output_type": "execute_result"
    }
   ],
   "source": [
    "X_train_vector.shape"
   ]
  },
  {
   "cell_type": "markdown",
   "id": "a1e027e5",
   "metadata": {},
   "source": [
    "<h1>Creating Neural Network Model</h1>"
   ]
  },
  {
   "cell_type": "markdown",
   "id": "74c45e0b",
   "metadata": {},
   "source": [
    "<pre>\n",
    "<h3> Neural Network Description </h3>\n",
    "  1- Don't have any Layer So its not A DNN and that for making learn faster irrespective of making good accuracy \n",
    "  2- Have Only One Output as we are Using Binary Classification\n",
    "  3- It's Weights have been assigned to valuse between 0 and 0.1 which make it Faster \n",
    "  4- Have two main function which forward which make forward propagation and back which make backward propagation \n",
    "  5- Have another two function one for making prediction and anoter for training\n",
    "</pre>\n",
    "<img src=\"NN.png\"/>"
   ]
  },
  {
   "cell_type": "code",
   "execution_count": 20,
   "id": "4cb2d1c4",
   "metadata": {},
   "outputs": [],
   "source": [
    "class nuralnetwork:\n",
    "    def __init__(self,x,y):\n",
    "        self.X=x\n",
    "        self.Y=y\n",
    "        self.W1=np.random.rand(x.shape[1],1)/9 #for Weights of first Layer(input Layer)\n",
    "        self.threshold=0.5 #for threshold\n",
    "        self.LearningRate=0.001 #for Learning rate\n",
    "    def sig(self,x):#sigmoid function\n",
    "        return 1/(1+np.exp(-x))\n",
    "\n",
    "    def sig_dev(self,x): #derivative of sigmoid function\n",
    "        return x*(1.0-x)\n",
    "    def forward (self):#Forward Propagation \n",
    "        self.output = self.sig(np.dot(self.X, self.W1))\n",
    "        return np.vectorize(self.makethreshold)(self.output)\n",
    "    def back(self):#backward propagetion\n",
    "        self.o_d2=(self.Y-self.output)\n",
    "        self.dw1=self.W1+self.LearningRate*np.dot(self.X.T,(self.o_d2*(self.sig_dev(self.output))))\n",
    "        self.W1=self.dw1\n",
    "    def train(self,iterations):# Train function \n",
    "        for i in range(iterations):\n",
    "            self.forward()\n",
    "            self.back()\n",
    "    def makethreshold(self,item):\n",
    "        if item > self.threshold:\n",
    "            return 1\n",
    "        else:\n",
    "            return 0\n",
    "    def predict(self,data):\n",
    "        self.output = self.sig(np.dot(data, self.W1))\n",
    "        return  np.vectorize(self.makethreshold)(self.output)\n"
   ]
  },
  {
   "cell_type": "markdown",
   "id": "a260c7d8",
   "metadata": {},
   "source": [
    "<h1 >Creating Object of Neural Network and Train it</h1>"
   ]
  },
  {
   "cell_type": "code",
   "execution_count": 21,
   "id": "fc5a12c8",
   "metadata": {},
   "outputs": [],
   "source": [
    "Train_Error=[]\n",
    "Test_Error=[]\n",
    "NN=nuralnetwork(X_train_vector,y_train)\n",
    "for i in range(100):\n",
    "    NN.train(10)\n",
    "    Train_Error.append(accuracy_score(y_train, NN.forward()))\n",
    "    Test_Error.append(accuracy_score(y_test,NN.predict(X_test_vector)))"
   ]
  },
  {
   "cell_type": "code",
   "execution_count": 22,
   "id": "7af505c2",
   "metadata": {},
   "outputs": [
    {
     "data": {
      "image/png": "[encoded data removed]",
      "text/plain": [
       "<Figure size 432x288 with 1 Axes>"
      ]
     },
     "metadata": {
      "needs_background": "light"
     },
     "output_type": "display_data"
    }
   ],
   "source": [
    "plt.plot(np.linspace(0,99,100),Train_Error,label=\"Train\")\n",
    "plt.plot(np.linspace(0,99,100),Test_Error,label=\"Test\")\n",
    "plt.legend()\n",
    "plt.show()"
   ]
  },
  {
   "cell_type": "markdown",
   "id": "a999b63d",
   "metadata": {},
   "source": [
    "<h4> No Overfit as Accuracy of Tarin about 98% and in Test 97%</h4>"
   ]
  },
  {
   "cell_type": "code",
   "execution_count": 23,
   "id": "97e7b9e2",
   "metadata": {},
   "outputs": [],
   "source": [
    "y_pred=NN.predict(X_test_vector)"
   ]
  },
  {
   "cell_type": "code",
   "execution_count": 24,
   "id": "7670c3c8",
   "metadata": {},
   "outputs": [
    {
     "name": "stdout",
     "output_type": "stream",
     "text": [
      "[[ 201   29]\n",
      " [  13 1429]]\n"
     ]
    }
   ],
   "source": [
    "metric=confusion_matrix(y_test,y_pred)\n",
    "print(metric)"
   ]
  },
  {
   "cell_type": "code",
   "execution_count": 25,
   "id": "a3ce8879",
   "metadata": {},
   "outputs": [
    {
     "name": "stdout",
     "output_type": "stream",
     "text": [
      "              precision    recall  f1-score   support\n",
      "\n",
      "           0       0.94      0.87      0.91       230\n",
      "           1       0.98      0.99      0.99      1442\n",
      "\n",
      "    accuracy                           0.97      1672\n",
      "   macro avg       0.96      0.93      0.95      1672\n",
      "weighted avg       0.97      0.97      0.97      1672\n",
      "\n"
     ]
    }
   ],
   "source": [
    "Report=classification_report(y_test,y_pred)\n",
    "print(Report)"
   ]
  },
  {
   "cell_type": "code",
   "execution_count": 26,
   "id": "2fe79bfd",
   "metadata": {},
   "outputs": [
    {
     "data": {
      "text/plain": [
       "<AxesSubplot:>"
      ]
     },
     "execution_count": 26,
     "metadata": {},
     "output_type": "execute_result"
    },
    {
     "data": {
      "image/png": "[encoded data removed]",
      "text/plain": [
       "<Figure size 432x288 with 2 Axes>"
      ]
     },
     "metadata": {
      "needs_background": "light"
     },
     "output_type": "display_data"
    }
   ],
   "source": [
    "sns.heatmap(metric,center=True)"
   ]
  },
  {
   "cell_type": "markdown",
   "id": "e3632b52",
   "metadata": {},
   "source": [
    "<h1> Saving Model</h1>"
   ]
  },
  {
   "cell_type": "code",
   "execution_count": 27,
   "id": "de16a918",
   "metadata": {},
   "outputs": [
    {
     "data": {
      "text/plain": [
       "['mode.sav']"
      ]
     },
     "execution_count": 27,
     "metadata": {},
     "output_type": "execute_result"
    }
   ],
   "source": [
    "#saving Model\n",
    "joblib.dump(NN , 'mode.sav')"
   ]
  }
 ],
 "metadata": {
  "kernelspec": {
   "display_name": "Python 3 (ipykernel)",
   "language": "python",
   "name": "python3"
  },
  "language_info": {
   "codemirror_mode": {
    "name": "ipython",
    "version": 3
   },
   "file_extension": ".py",
   "mimetype": "text/x-python",
   "name": "python",
   "nbconvert_exporter": "python",
   "pygments_lexer": "ipython3",
   "version": "3.9.12"
  }
 },
 "nbformat": 4,
 "nbformat_minor": 5
}
